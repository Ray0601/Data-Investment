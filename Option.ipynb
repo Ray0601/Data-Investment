{
  "nbformat": 4,
  "nbformat_minor": 0,
  "metadata": {
    "colab": {
      "provenance": []
    },
    "kernelspec": {
      "name": "python3",
      "display_name": "Python 3"
    },
    "language_info": {
      "name": "python"
    }
  },
  "cells": [
    {
      "cell_type": "markdown",
      "source": [
        "# Function"
      ],
      "metadata": {
        "id": "pBtnEUSbNkhq"
      }
    },
    {
      "cell_type": "code",
      "source": [
        "import numpy as np\n",
        "import pandas as pd\n",
        "from scipy.stats import norm"
      ],
      "metadata": {
        "id": "ngUzo52Zp4TC"
      },
      "execution_count": null,
      "outputs": []
    },
    {
      "cell_type": "code",
      "source": [
        "def Black_Schole(spot_price, strike_price, dividend_yield, volatility ,risk_free_rate,time_to_maturity):\n",
        "  d1 = (np.log(spot_price / strike_price) + (dividend_yield + (volatility ** 2) / 2) * time_to_maturity) / (volatility * np.sqrt(time_to_maturity))\n",
        "  d2 = d1 - volatility * np.sqrt(time_to_maturity)\n",
        "  N_d1 = norm.cdf(d1)\n",
        "  N_d2 = norm.cdf(d2)\n",
        "  call_option_price = spot_price * np.exp((dividend_yield - risk_free_rate) * time_to_maturity) * norm.cdf(d1) - strike_price * np.exp(-risk_free_rate * time_to_maturity) * norm.cdf(d2)\n",
        "  call_option_delta = np.exp((dividend_yield - risk_free_rate) * time_to_maturity) * norm.cdf(d1)\n",
        "  put_option_price = spot_price * np.exp(-risk_free_rate * time_to_maturity) * norm.cdf(-d2) - strike_price*np.exp((dividend_yield-risk_free_rate)*time_to_maturity) * norm.cdf(-d1)\n",
        "  put_option_delta = -np.exp((dividend_yield-risk_free_rate)*time_to_maturity) * norm.cdf(-d1)\n",
        "  return d1, d2, N_d1, N_d2, call_option_price, call_option_delta, put_option_price, put_option_delta\n"
      ],
      "metadata": {
        "id": "1gysWXR3nSHx"
      },
      "execution_count": null,
      "outputs": []
    },
    {
      "cell_type": "code",
      "source": [
        "import numpy as np\n",
        "\n",
        "def generate_asset_price(spot_price, d, u, num_steps):\n",
        "    x = np.zeros((num_steps + 1, num_steps + 1))\n",
        "\n",
        "    for i in range(num_steps + 1):\n",
        "        for j in range(num_steps + 1):\n",
        "            if i == 0 and j == 0:\n",
        "                x[i, j] = spot_price\n",
        "            elif i == j:\n",
        "                x[i, j] = x[i-1, j-1] * d\n",
        "            elif i < j:\n",
        "                x[i, j] = x[i, j-1] * u\n",
        "            else:\n",
        "                x[i, j] = 0\n",
        "\n",
        "    return x"
      ],
      "metadata": {
        "id": "h8jNPtBGa3SN"
      },
      "execution_count": null,
      "outputs": []
    },
    {
      "cell_type": "code",
      "source": [
        "import numpy as np\n",
        "\n",
        "def generate_european_call(spot_price, strike_price, d, u, q, r, num_steps):\n",
        "    x = np.zeros((num_steps + 1, num_steps + 1))\n",
        "    y = generate_asset_price(spot_price, d, u, num_steps)\n",
        "\n",
        "    for i in range(num_steps + 1):\n",
        "        for j in range(num_steps + 1):\n",
        "            if j == num_steps:\n",
        "                x[i, j] = max(0, y[i, j] - strike_price)\n",
        "\n",
        "    n = 1\n",
        "    for k in range(num_steps + 1 - n):\n",
        "        for i in range(num_steps -n +1):\n",
        "            for j in range(num_steps):\n",
        "                if j <= num_steps - 1 and i <= num_steps - 1and i <= j:\n",
        "                    x[i, j] = (q * x[i, j+1] + (1 - q) * x[i+1, j+1]) / r\n",
        "        n += 1\n",
        "    return x"
      ],
      "metadata": {
        "id": "dEX_Z4BM0UpY"
      },
      "execution_count": null,
      "outputs": []
    },
    {
      "cell_type": "code",
      "source": [
        "import numpy as np\n",
        "\n",
        "def generate_american_call(spot_price, strike_price, d, u, q, r, num_steps):\n",
        "    x = np.zeros((num_steps + 1, num_steps + 1))\n",
        "    y = generate_asset_price(spot_price, d, u, num_steps)\n",
        "\n",
        "    for i in range(num_steps + 1):\n",
        "        for j in range(num_steps + 1):\n",
        "            if j == num_steps:\n",
        "                x[i, j] = max(0, y[i, j] - strike_price)\n",
        "\n",
        "    n = 1\n",
        "    for k in range(num_steps + 1 - n):\n",
        "        for i in range(num_steps -n + 1):\n",
        "            for j in range(num_steps):\n",
        "                if j <= num_steps - 1 and i <= num_steps - 1 and i <= j:\n",
        "                    x[i, j] = np.maximum(y[i,j] -  strike_price,(q * x[i, j+1] + (1 - q) * x[i+1, j+1]) / r)\n",
        "\n",
        "        n += 1\n",
        "    return x"
      ],
      "metadata": {
        "id": "7avw6AIg2DMt"
      },
      "execution_count": null,
      "outputs": []
    },
    {
      "cell_type": "code",
      "source": [
        "import numpy as np\n",
        "\n",
        "def generate_european_put(spot_price, strike_price, d, u, q, r, num_steps):\n",
        "    x = np.zeros((num_steps + 1, num_steps + 1))\n",
        "    y = generate_asset_price(spot_price, d, u, num_steps)\n",
        "\n",
        "    for i in range(num_steps + 1):\n",
        "        for j in range(num_steps + 1):\n",
        "            if j == num_steps:\n",
        "                x[i, j] = max(0, strike_price - y[i, j])\n",
        "\n",
        "    n = 1\n",
        "    for k in range(num_steps + 1 - n):\n",
        "        for i in range(num_steps -n +1):\n",
        "            for j in range(num_steps):\n",
        "                if j <= num_steps - 1 and i <= num_steps - 1and i <= j:\n",
        "                    x[i, j] = (q * x[i, j+1] + (1 - q) * x[i+1, j+1]) / r\n",
        "        n += 1\n",
        "    return x"
      ],
      "metadata": {
        "id": "-zfF7wfJ4bJN"
      },
      "execution_count": null,
      "outputs": []
    },
    {
      "cell_type": "code",
      "source": [
        "import numpy as np\n",
        "\n",
        "\n",
        "def generate_american_put(spot_price, strike_price, d, u, q, r, num_steps):\n",
        "    x = np.zeros((num_steps + 1, num_steps + 1))\n",
        "    y = generate_asset_price(spot_price, d, u, num_steps)\n",
        "\n",
        "    for i in range(num_steps + 1):\n",
        "        for j in range(num_steps + 1):\n",
        "            if j == num_steps:\n",
        "                x[i, j] = max(0, strike_price - y[i, j])\n",
        "\n",
        "    n = 1\n",
        "    for k in range(num_steps + 1 - n):\n",
        "        for i in range(num_steps -n + 1):\n",
        "            for j in range(num_steps):\n",
        "                if j <= num_steps - 1 and i <= num_steps - 1 and i <= j:\n",
        "                    x[i, j] = np.maximum(strike_price - y[i,j],(q * x[i, j+1] + (1 - q) * x[i+1, j+1]) / r)\n",
        "\n",
        "        n += 1\n",
        "    return x"
      ],
      "metadata": {
        "id": "feDWclfo6mIh"
      },
      "execution_count": null,
      "outputs": []
    },
    {
      "cell_type": "code",
      "source": [
        "import numpy as np\n",
        "from scipy.stats import norm\n",
        "\n",
        "def monte_carlo_sim_option(spot_price, risk_free_rate, dividend_yield, volatility, time_to_maturity, num_paths):\n",
        "  simulation = np.zeros((num_paths + 1, 1))\n",
        "\n",
        "  for i in range(1, num_paths + 1):\n",
        "    drift = (risk_free_rate - dividend_yield - 0.5 * volatility**2) * time_to_maturity\n",
        "    vol_term = volatility * np.sqrt(time_to_maturity)\n",
        "    random_number = np.random.rand()\n",
        "    sim_price = spot_price * np.exp(drift + vol_term * norm.ppf(random_number))\n",
        "\n",
        "    simulation[i-1, 0] = sim_price\n",
        "\n",
        "  return simulation"
      ],
      "metadata": {
        "id": "iGaVYoOXD1uI"
      },
      "execution_count": null,
      "outputs": []
    },
    {
      "cell_type": "markdown",
      "source": [
        "# Run"
      ],
      "metadata": {
        "id": "QtJ1g_9XNnoY"
      }
    },
    {
      "cell_type": "code",
      "source": [
        "import numpy as np\n",
        "import pandas as pd\n",
        "from scipy.stats import norm\n",
        "# Example usage:\n",
        "spot_price = 3500   # Current stock price\n",
        "strike_price = 3500   # Option strike price\n",
        "time_to_maturity = 10  # Time to option expiration in years\n",
        "volatility = 0.24   # Volatility of the underlying stock\n",
        "risk_free_rate = 0.084 # Risk-free interest rate\n",
        "dividend_yield =  risk_free_rate - 0\n"
      ],
      "metadata": {
        "id": "R0vrznEATvtW"
      },
      "execution_count": null,
      "outputs": []
    },
    {
      "cell_type": "code",
      "source": [
        "d1, d2, N_d1, N_d2, call_option_price, call_option_delta, put_option_price, put_option_delta = Black_Schole(spot_price, strike_price, dividend_yield, risk_free_rate, volatility, time_to_maturity)"
      ],
      "metadata": {
        "id": "n9gRw_EjnvrZ"
      },
      "execution_count": null,
      "outputs": []
    },
    {
      "cell_type": "code",
      "source": [
        "bs_model = BlackScholes(spot_price, strike_price, dividend_yield, volatility, risk_free_rate, time_to_maturity)\n",
        "print(\"Call Option Price:\", bs_model.calculate_call_option_price())\n",
        "print(\"Put Option Price:\", bs_model.calculate_put_option_price())"
      ],
      "metadata": {
        "colab": {
          "base_uri": "https://localhost:8080/"
        },
        "id": "KxmKMCa4zyF1",
        "outputId": "165528b9-a0ea-4d03-dcc5-80eacec11931"
      },
      "execution_count": null,
      "outputs": [
        {
          "output_type": "stream",
          "name": "stdout",
          "text": [
            "Call Option Price: 2101.7361567012576\n",
            "Put Option Price: 112.72298870303644\n"
          ]
        }
      ]
    },
    {
      "cell_type": "code",
      "source": [
        "bs_model"
      ],
      "metadata": {
        "colab": {
          "base_uri": "https://localhost:8080/"
        },
        "id": "1vk9PWFrz9GH",
        "outputId": "573cb9f0-a47c-4445-e5c2-0506a5e9a9b4"
      },
      "execution_count": null,
      "outputs": [
        {
          "output_type": "execute_result",
          "data": {
            "text/plain": [
              "<__main__.BlackScholes at 0x7c46bc544700>"
            ]
          },
          "metadata": {},
          "execution_count": 54
        }
      ]
    },
    {
      "cell_type": "code",
      "source": [
        "d1_value = bs_model.calculate_d1()\n",
        "print(\"d1 value:\", d1_value)"
      ],
      "metadata": {
        "colab": {
          "base_uri": "https://localhost:8080/"
        },
        "id": "zM0YtVgd169H",
        "outputId": "af030e9d-8baa-4b97-8aca-482a66d6644b"
      },
      "execution_count": null,
      "outputs": [
        {
          "output_type": "stream",
          "name": "stdout",
          "text": [
            "d1 value: 1.4862705002791383\n"
          ]
        }
      ]
    },
    {
      "cell_type": "code",
      "source": [
        "call_option_price = 400\n",
        "Black_Schole(spot_price, strike_price, dividend_yield, risk_free_rate, volatility, time_to_maturity)"
      ],
      "metadata": {
        "colab": {
          "base_uri": "https://localhost:8080/"
        },
        "id": "4pdosgf5HY6b",
        "outputId": "a8d5a624-6b2a-4adf-f56a-7c8d3ee15e22"
      },
      "execution_count": null,
      "outputs": [
        {
          "output_type": "execute_result",
          "data": {
            "text/plain": [
              "(3.295093321895451,\n",
              " 3.029461998441307,\n",
              " 0.9995080550015268,\n",
              " 0.9987750513866691,\n",
              " 417.9905357362433,\n",
              " 0.2100326958115388,\n",
              " 0.027123046510198034,\n",
              " -0.00010337538922602482)"
            ]
          },
          "metadata": {},
          "execution_count": 49
        }
      ]
    },
    {
      "cell_type": "code",
      "source": [
        "print(f\"d1 is {d1:.3f}\\nd2 is {d2:.3f}\")\n",
        "print(f\"N(d1) is {N_d1:.3f}\\nN(d2) is {N_d2:.3f}\")\n",
        "print(f\"Call Value is {call_option_price:.3f}\\nCall Delta is {call_option_delta:.3f}\")\n",
        "print(f\"Put Value is {put_option_price:.3f}\\nPut Delta is {put_option_delta:.3f}\")"
      ],
      "metadata": {
        "colab": {
          "base_uri": "https://localhost:8080/"
        },
        "id": "McBbH8W2Rv55",
        "outputId": "acd7c7e5-9136-43f5-a8bc-42a7cb84a24f"
      },
      "execution_count": null,
      "outputs": [
        {
          "output_type": "stream",
          "name": "stdout",
          "text": [
            "d1 is 3.295\n",
            "d2 is 3.029\n",
            "N(d1) is 1.000\n",
            "N(d2) is 0.999\n",
            "Call Value is 417.991\n",
            "Call Delta is 0.210\n",
            "Put Value is 0.027\n",
            "Put Delta is -0.000\n"
          ]
        }
      ]
    },
    {
      "cell_type": "code",
      "source": [
        "d1, d2, N_d1, N_d2, call_option_price, call_option_delta, put_option_price, put_option_delta = Black_Schole(spot_price, strike_price, dividend_yield, risk_free_rate, volatility, time_to_maturity)"
      ],
      "metadata": {
        "id": "cpOvYhhaDGFp"
      },
      "execution_count": null,
      "outputs": []
    },
    {
      "cell_type": "code",
      "source": [
        "import numpy as np\n",
        "from scipy.stats import norm\n",
        "from scipy.optimize import fsolve\n",
        "\n",
        "def implied_parameter_calculator(parameter_value, variable, target_option_price, *args):\n",
        "    # Unpack args correctly\n",
        "    spot_price, strike_price, dividend_yield, time_to_maturity, risk_free_rate, volatility, option_type = args\n",
        "\n",
        "    # Set the parameter value based on the variable being solved for\n",
        "    if variable == 'spot_price':\n",
        "        spot_price = parameter_value\n",
        "    elif variable == 'strike_price':\n",
        "        strike_price = parameter_value\n",
        "    elif variable == 'dividend_yield':\n",
        "        dividend_yield = parameter_value\n",
        "    elif variable == 'time_to_maturity':\n",
        "        time_to_maturity = parameter_value\n",
        "    elif variable == 'risk_free_rate':\n",
        "        risk_free_rate = parameter_value\n",
        "    else:\n",
        "        raise ValueError(f\"Invalid variable: {variable}\")\n",
        "\n",
        "    # Black-Scholes calculations\n",
        "    d1 = (np.log(spot_price / strike_price) + (dividend_yield + (volatility ** 2) / 2) * time_to_maturity) / (volatility * np.sqrt(time_to_maturity))\n",
        "    d2 = d1 - volatility * np.sqrt(time_to_maturity)\n",
        "\n",
        "    if option_type == 'call':\n",
        "        option_price = spot_price * np.exp((dividend_yield - risk_free_rate) * time_to_maturity) * norm.cdf(d1) - strike_price * np.exp(-risk_free_rate * time_to_maturity) * norm.cdf(d2)\n",
        "    elif option_type == 'put':\n",
        "        option_price = strike_price * np.exp(-risk_free_rate * time_to_maturity) * norm.cdf(-d2) - spot_price * np.exp((dividend_yield - risk_free_rate) * time_to_maturity) * norm.cdf(-d1)\n",
        "    else:\n",
        "        raise ValueError(\"Invalid option_type. Use 'call' or 'put'.\")\n",
        "\n",
        "    return option_price - target_option_price\n",
        "\n",
        "\n",
        "\n",
        "# Target option price\n",
        "target_option_price = 400\n",
        "\n",
        "# Choose variable to solve for\n",
        "variable_to_solve = 'risk_free_rate'\n",
        "\n",
        "# Initial guess for the parameter value\n",
        "initial_guess = risk_free_rate  # or any other appropriate initial guess\n",
        "\n",
        "# Using fsolve to find the implied parameter value\n",
        "implied_parameter_result = fsolve(implied_parameter_calculator, initial_guess, args=(variable_to_solve, target_option_price, spot_price, strike_price, dividend_yield, time_to_maturity, risk_free_rate, volatility, 'call'))\n",
        "\n",
        "print(f\"Implied {variable_to_solve}:\", implied_parameter_result[0])\n"
      ],
      "metadata": {
        "colab": {
          "base_uri": "https://localhost:8080/"
        },
        "id": "ql4TZkI5LzlH",
        "outputId": "f99b17ec-6b96-43d1-9c78-724195e7c7ca"
      },
      "execution_count": null,
      "outputs": [
        {
          "output_type": "stream",
          "name": "stdout",
          "text": [
            "Implied risk_free_rate: 0.2499054476327511\n"
          ]
        }
      ]
    },
    {
      "cell_type": "code",
      "source": [
        "import numpy as np\n",
        "\"\"\"\n",
        "spot_price = 274      # Current stock price\n",
        "strike_price = 225   # Option strike price\n",
        "time_to_maturity = 32/252  # Time to option expiration in years\n",
        "volatility = 0.52    # Volatility of the underlying stock\n",
        "risk_free_rate = 0.01 # Risk-free interest rate\n",
        "dividend_yield = 0.00\n",
        "\"\"\"\n",
        "num_steps = 240\n",
        "\n",
        "\n",
        "delta_t = time_to_maturity / num_steps\n",
        "u = np.exp(volatility * np.sqrt(delta_t))\n",
        "d = 1 / u\n",
        "r = np.exp(risk_free_rate*delta_t)\n",
        "b = np.exp(dividend_yield*delta_t)\n",
        "q = (b-d)/(u-d)"
      ],
      "metadata": {
        "id": "3mHt6acNDiu_"
      },
      "execution_count": null,
      "outputs": []
    },
    {
      "cell_type": "code",
      "source": [
        "Asset_Price = generate_asset_price(spot_price, d, u, num_steps)\n",
        "Asset_Price_df = pd.DataFrame(Asset_Price)\n",
        "Asset_Price_df = Asset_Price_df.round(2)\n",
        "#Asset_Price_df.replace(0, '', inplace=True)\n",
        "#Asset_Price_df.head(num_steps+1)\n",
        "Asset_Price_df"
      ],
      "metadata": {
        "id": "m9EqfnpJadF8",
        "colab": {
          "base_uri": "https://localhost:8080/",
          "height": 444
        },
        "outputId": "01897e5b-e291-4805-f5b7-496e06d3a022"
      },
      "execution_count": null,
      "outputs": [
        {
          "output_type": "execute_result",
          "data": {
            "text/plain": [
              "        0        1        2        3        4        5        6        7    \\\n",
              "0    3500.0  3675.73  3860.29  4054.11  4257.67  4471.45  4695.96  4931.74   \n",
              "1       0.0  3332.67  3500.00  3675.73  3860.29  4054.11  4257.67  4471.45   \n",
              "2       0.0     0.00  3173.34  3332.67  3500.00  3675.73  3860.29  4054.11   \n",
              "3       0.0     0.00     0.00  3021.62  3173.34  3332.67  3500.00  3675.73   \n",
              "4       0.0     0.00     0.00     0.00  2877.16  3021.62  3173.34  3332.67   \n",
              "..      ...      ...      ...      ...      ...      ...      ...      ...   \n",
              "236     0.0     0.00     0.00     0.00     0.00     0.00     0.00     0.00   \n",
              "237     0.0     0.00     0.00     0.00     0.00     0.00     0.00     0.00   \n",
              "238     0.0     0.00     0.00     0.00     0.00     0.00     0.00     0.00   \n",
              "239     0.0     0.00     0.00     0.00     0.00     0.00     0.00     0.00   \n",
              "240     0.0     0.00     0.00     0.00     0.00     0.00     0.00     0.00   \n",
              "\n",
              "         8        9    ...           231           232           233  \\\n",
              "0    5179.36  5439.41  ...  2.876229e+08  3.020644e+08  3.172309e+08   \n",
              "1    4695.96  4931.74  ...  2.607783e+08  2.738719e+08  2.876229e+08   \n",
              "2    4257.67  4471.45  ...  2.364392e+08  2.483107e+08  2.607783e+08   \n",
              "3    3860.29  4054.11  ...  2.143717e+08  2.251352e+08  2.364392e+08   \n",
              "4    3500.00  3675.73  ...  1.943639e+08  2.041228e+08  2.143717e+08   \n",
              "..       ...      ...  ...           ...           ...           ...   \n",
              "236     0.00     0.00  ...  0.000000e+00  0.000000e+00  0.000000e+00   \n",
              "237     0.00     0.00  ...  0.000000e+00  0.000000e+00  0.000000e+00   \n",
              "238     0.00     0.00  ...  0.000000e+00  0.000000e+00  0.000000e+00   \n",
              "239     0.00     0.00  ...  0.000000e+00  0.000000e+00  0.000000e+00   \n",
              "240     0.00     0.00  ...  0.000000e+00  0.000000e+00  0.000000e+00   \n",
              "\n",
              "              234           235           236           237           238  \\\n",
              "0    3.331589e+08  3.498867e+08  3.674544e+08  3.859042e+08  4.052803e+08   \n",
              "1    3.020644e+08  3.172309e+08  3.331589e+08  3.498867e+08  3.674544e+08   \n",
              "2    2.738719e+08  2.876229e+08  3.020644e+08  3.172309e+08  3.331589e+08   \n",
              "3    2.483107e+08  2.607783e+08  2.738719e+08  2.876229e+08  3.020644e+08   \n",
              "4    2.251352e+08  2.364392e+08  2.483107e+08  2.607783e+08  2.738719e+08   \n",
              "..            ...           ...           ...           ...           ...   \n",
              "236  0.000000e+00  0.000000e+00  3.000000e-02  4.000000e-02  4.000000e-02   \n",
              "237  0.000000e+00  0.000000e+00  0.000000e+00  3.000000e-02  3.000000e-02   \n",
              "238  0.000000e+00  0.000000e+00  0.000000e+00  0.000000e+00  3.000000e-02   \n",
              "239  0.000000e+00  0.000000e+00  0.000000e+00  0.000000e+00  0.000000e+00   \n",
              "240  0.000000e+00  0.000000e+00  0.000000e+00  0.000000e+00  0.000000e+00   \n",
              "\n",
              "              239           240  \n",
              "0    4.256292e+08  4.469999e+08  \n",
              "1    3.859042e+08  4.052803e+08  \n",
              "2    3.498867e+08  3.674544e+08  \n",
              "3    3.172309e+08  3.331589e+08  \n",
              "4    2.876229e+08  3.020644e+08  \n",
              "..            ...           ...  \n",
              "236  4.000000e-02  4.000000e-02  \n",
              "237  4.000000e-02  4.000000e-02  \n",
              "238  3.000000e-02  3.000000e-02  \n",
              "239  3.000000e-02  3.000000e-02  \n",
              "240  0.000000e+00  3.000000e-02  \n",
              "\n",
              "[241 rows x 241 columns]"
            ],
            "text/html": [
              "\n",
              "  <div id=\"df-8baead64-dbe7-4cec-87fd-c012b6b791a7\" class=\"colab-df-container\">\n",
              "    <div>\n",
              "<style scoped>\n",
              "    .dataframe tbody tr th:only-of-type {\n",
              "        vertical-align: middle;\n",
              "    }\n",
              "\n",
              "    .dataframe tbody tr th {\n",
              "        vertical-align: top;\n",
              "    }\n",
              "\n",
              "    .dataframe thead th {\n",
              "        text-align: right;\n",
              "    }\n",
              "</style>\n",
              "<table border=\"1\" class=\"dataframe\">\n",
              "  <thead>\n",
              "    <tr style=\"text-align: right;\">\n",
              "      <th></th>\n",
              "      <th>0</th>\n",
              "      <th>1</th>\n",
              "      <th>2</th>\n",
              "      <th>3</th>\n",
              "      <th>4</th>\n",
              "      <th>5</th>\n",
              "      <th>6</th>\n",
              "      <th>7</th>\n",
              "      <th>8</th>\n",
              "      <th>9</th>\n",
              "      <th>...</th>\n",
              "      <th>231</th>\n",
              "      <th>232</th>\n",
              "      <th>233</th>\n",
              "      <th>234</th>\n",
              "      <th>235</th>\n",
              "      <th>236</th>\n",
              "      <th>237</th>\n",
              "      <th>238</th>\n",
              "      <th>239</th>\n",
              "      <th>240</th>\n",
              "    </tr>\n",
              "  </thead>\n",
              "  <tbody>\n",
              "    <tr>\n",
              "      <th>0</th>\n",
              "      <td>3500.0</td>\n",
              "      <td>3675.73</td>\n",
              "      <td>3860.29</td>\n",
              "      <td>4054.11</td>\n",
              "      <td>4257.67</td>\n",
              "      <td>4471.45</td>\n",
              "      <td>4695.96</td>\n",
              "      <td>4931.74</td>\n",
              "      <td>5179.36</td>\n",
              "      <td>5439.41</td>\n",
              "      <td>...</td>\n",
              "      <td>2.876229e+08</td>\n",
              "      <td>3.020644e+08</td>\n",
              "      <td>3.172309e+08</td>\n",
              "      <td>3.331589e+08</td>\n",
              "      <td>3.498867e+08</td>\n",
              "      <td>3.674544e+08</td>\n",
              "      <td>3.859042e+08</td>\n",
              "      <td>4.052803e+08</td>\n",
              "      <td>4.256292e+08</td>\n",
              "      <td>4.469999e+08</td>\n",
              "    </tr>\n",
              "    <tr>\n",
              "      <th>1</th>\n",
              "      <td>0.0</td>\n",
              "      <td>3332.67</td>\n",
              "      <td>3500.00</td>\n",
              "      <td>3675.73</td>\n",
              "      <td>3860.29</td>\n",
              "      <td>4054.11</td>\n",
              "      <td>4257.67</td>\n",
              "      <td>4471.45</td>\n",
              "      <td>4695.96</td>\n",
              "      <td>4931.74</td>\n",
              "      <td>...</td>\n",
              "      <td>2.607783e+08</td>\n",
              "      <td>2.738719e+08</td>\n",
              "      <td>2.876229e+08</td>\n",
              "      <td>3.020644e+08</td>\n",
              "      <td>3.172309e+08</td>\n",
              "      <td>3.331589e+08</td>\n",
              "      <td>3.498867e+08</td>\n",
              "      <td>3.674544e+08</td>\n",
              "      <td>3.859042e+08</td>\n",
              "      <td>4.052803e+08</td>\n",
              "    </tr>\n",
              "    <tr>\n",
              "      <th>2</th>\n",
              "      <td>0.0</td>\n",
              "      <td>0.00</td>\n",
              "      <td>3173.34</td>\n",
              "      <td>3332.67</td>\n",
              "      <td>3500.00</td>\n",
              "      <td>3675.73</td>\n",
              "      <td>3860.29</td>\n",
              "      <td>4054.11</td>\n",
              "      <td>4257.67</td>\n",
              "      <td>4471.45</td>\n",
              "      <td>...</td>\n",
              "      <td>2.364392e+08</td>\n",
              "      <td>2.483107e+08</td>\n",
              "      <td>2.607783e+08</td>\n",
              "      <td>2.738719e+08</td>\n",
              "      <td>2.876229e+08</td>\n",
              "      <td>3.020644e+08</td>\n",
              "      <td>3.172309e+08</td>\n",
              "      <td>3.331589e+08</td>\n",
              "      <td>3.498867e+08</td>\n",
              "      <td>3.674544e+08</td>\n",
              "    </tr>\n",
              "    <tr>\n",
              "      <th>3</th>\n",
              "      <td>0.0</td>\n",
              "      <td>0.00</td>\n",
              "      <td>0.00</td>\n",
              "      <td>3021.62</td>\n",
              "      <td>3173.34</td>\n",
              "      <td>3332.67</td>\n",
              "      <td>3500.00</td>\n",
              "      <td>3675.73</td>\n",
              "      <td>3860.29</td>\n",
              "      <td>4054.11</td>\n",
              "      <td>...</td>\n",
              "      <td>2.143717e+08</td>\n",
              "      <td>2.251352e+08</td>\n",
              "      <td>2.364392e+08</td>\n",
              "      <td>2.483107e+08</td>\n",
              "      <td>2.607783e+08</td>\n",
              "      <td>2.738719e+08</td>\n",
              "      <td>2.876229e+08</td>\n",
              "      <td>3.020644e+08</td>\n",
              "      <td>3.172309e+08</td>\n",
              "      <td>3.331589e+08</td>\n",
              "    </tr>\n",
              "    <tr>\n",
              "      <th>4</th>\n",
              "      <td>0.0</td>\n",
              "      <td>0.00</td>\n",
              "      <td>0.00</td>\n",
              "      <td>0.00</td>\n",
              "      <td>2877.16</td>\n",
              "      <td>3021.62</td>\n",
              "      <td>3173.34</td>\n",
              "      <td>3332.67</td>\n",
              "      <td>3500.00</td>\n",
              "      <td>3675.73</td>\n",
              "      <td>...</td>\n",
              "      <td>1.943639e+08</td>\n",
              "      <td>2.041228e+08</td>\n",
              "      <td>2.143717e+08</td>\n",
              "      <td>2.251352e+08</td>\n",
              "      <td>2.364392e+08</td>\n",
              "      <td>2.483107e+08</td>\n",
              "      <td>2.607783e+08</td>\n",
              "      <td>2.738719e+08</td>\n",
              "      <td>2.876229e+08</td>\n",
              "      <td>3.020644e+08</td>\n",
              "    </tr>\n",
              "    <tr>\n",
              "      <th>...</th>\n",
              "      <td>...</td>\n",
              "      <td>...</td>\n",
              "      <td>...</td>\n",
              "      <td>...</td>\n",
              "      <td>...</td>\n",
              "      <td>...</td>\n",
              "      <td>...</td>\n",
              "      <td>...</td>\n",
              "      <td>...</td>\n",
              "      <td>...</td>\n",
              "      <td>...</td>\n",
              "      <td>...</td>\n",
              "      <td>...</td>\n",
              "      <td>...</td>\n",
              "      <td>...</td>\n",
              "      <td>...</td>\n",
              "      <td>...</td>\n",
              "      <td>...</td>\n",
              "      <td>...</td>\n",
              "      <td>...</td>\n",
              "      <td>...</td>\n",
              "    </tr>\n",
              "    <tr>\n",
              "      <th>236</th>\n",
              "      <td>0.0</td>\n",
              "      <td>0.00</td>\n",
              "      <td>0.00</td>\n",
              "      <td>0.00</td>\n",
              "      <td>0.00</td>\n",
              "      <td>0.00</td>\n",
              "      <td>0.00</td>\n",
              "      <td>0.00</td>\n",
              "      <td>0.00</td>\n",
              "      <td>0.00</td>\n",
              "      <td>...</td>\n",
              "      <td>0.000000e+00</td>\n",
              "      <td>0.000000e+00</td>\n",
              "      <td>0.000000e+00</td>\n",
              "      <td>0.000000e+00</td>\n",
              "      <td>0.000000e+00</td>\n",
              "      <td>3.000000e-02</td>\n",
              "      <td>4.000000e-02</td>\n",
              "      <td>4.000000e-02</td>\n",
              "      <td>4.000000e-02</td>\n",
              "      <td>4.000000e-02</td>\n",
              "    </tr>\n",
              "    <tr>\n",
              "      <th>237</th>\n",
              "      <td>0.0</td>\n",
              "      <td>0.00</td>\n",
              "      <td>0.00</td>\n",
              "      <td>0.00</td>\n",
              "      <td>0.00</td>\n",
              "      <td>0.00</td>\n",
              "      <td>0.00</td>\n",
              "      <td>0.00</td>\n",
              "      <td>0.00</td>\n",
              "      <td>0.00</td>\n",
              "      <td>...</td>\n",
              "      <td>0.000000e+00</td>\n",
              "      <td>0.000000e+00</td>\n",
              "      <td>0.000000e+00</td>\n",
              "      <td>0.000000e+00</td>\n",
              "      <td>0.000000e+00</td>\n",
              "      <td>0.000000e+00</td>\n",
              "      <td>3.000000e-02</td>\n",
              "      <td>3.000000e-02</td>\n",
              "      <td>4.000000e-02</td>\n",
              "      <td>4.000000e-02</td>\n",
              "    </tr>\n",
              "    <tr>\n",
              "      <th>238</th>\n",
              "      <td>0.0</td>\n",
              "      <td>0.00</td>\n",
              "      <td>0.00</td>\n",
              "      <td>0.00</td>\n",
              "      <td>0.00</td>\n",
              "      <td>0.00</td>\n",
              "      <td>0.00</td>\n",
              "      <td>0.00</td>\n",
              "      <td>0.00</td>\n",
              "      <td>0.00</td>\n",
              "      <td>...</td>\n",
              "      <td>0.000000e+00</td>\n",
              "      <td>0.000000e+00</td>\n",
              "      <td>0.000000e+00</td>\n",
              "      <td>0.000000e+00</td>\n",
              "      <td>0.000000e+00</td>\n",
              "      <td>0.000000e+00</td>\n",
              "      <td>0.000000e+00</td>\n",
              "      <td>3.000000e-02</td>\n",
              "      <td>3.000000e-02</td>\n",
              "      <td>3.000000e-02</td>\n",
              "    </tr>\n",
              "    <tr>\n",
              "      <th>239</th>\n",
              "      <td>0.0</td>\n",
              "      <td>0.00</td>\n",
              "      <td>0.00</td>\n",
              "      <td>0.00</td>\n",
              "      <td>0.00</td>\n",
              "      <td>0.00</td>\n",
              "      <td>0.00</td>\n",
              "      <td>0.00</td>\n",
              "      <td>0.00</td>\n",
              "      <td>0.00</td>\n",
              "      <td>...</td>\n",
              "      <td>0.000000e+00</td>\n",
              "      <td>0.000000e+00</td>\n",
              "      <td>0.000000e+00</td>\n",
              "      <td>0.000000e+00</td>\n",
              "      <td>0.000000e+00</td>\n",
              "      <td>0.000000e+00</td>\n",
              "      <td>0.000000e+00</td>\n",
              "      <td>0.000000e+00</td>\n",
              "      <td>3.000000e-02</td>\n",
              "      <td>3.000000e-02</td>\n",
              "    </tr>\n",
              "    <tr>\n",
              "      <th>240</th>\n",
              "      <td>0.0</td>\n",
              "      <td>0.00</td>\n",
              "      <td>0.00</td>\n",
              "      <td>0.00</td>\n",
              "      <td>0.00</td>\n",
              "      <td>0.00</td>\n",
              "      <td>0.00</td>\n",
              "      <td>0.00</td>\n",
              "      <td>0.00</td>\n",
              "      <td>0.00</td>\n",
              "      <td>...</td>\n",
              "      <td>0.000000e+00</td>\n",
              "      <td>0.000000e+00</td>\n",
              "      <td>0.000000e+00</td>\n",
              "      <td>0.000000e+00</td>\n",
              "      <td>0.000000e+00</td>\n",
              "      <td>0.000000e+00</td>\n",
              "      <td>0.000000e+00</td>\n",
              "      <td>0.000000e+00</td>\n",
              "      <td>0.000000e+00</td>\n",
              "      <td>3.000000e-02</td>\n",
              "    </tr>\n",
              "  </tbody>\n",
              "</table>\n",
              "<p>241 rows × 241 columns</p>\n",
              "</div>\n",
              "    <div class=\"colab-df-buttons\">\n",
              "\n",
              "  <div class=\"colab-df-container\">\n",
              "    <button class=\"colab-df-convert\" onclick=\"convertToInteractive('df-8baead64-dbe7-4cec-87fd-c012b6b791a7')\"\n",
              "            title=\"Convert this dataframe to an interactive table.\"\n",
              "            style=\"display:none;\">\n",
              "\n",
              "  <svg xmlns=\"http://www.w3.org/2000/svg\" height=\"24px\" viewBox=\"0 -960 960 960\">\n",
              "    <path d=\"M120-120v-720h720v720H120Zm60-500h600v-160H180v160Zm220 220h160v-160H400v160Zm0 220h160v-160H400v160ZM180-400h160v-160H180v160Zm440 0h160v-160H620v160ZM180-180h160v-160H180v160Zm440 0h160v-160H620v160Z\"/>\n",
              "  </svg>\n",
              "    </button>\n",
              "\n",
              "  <style>\n",
              "    .colab-df-container {\n",
              "      display:flex;\n",
              "      gap: 12px;\n",
              "    }\n",
              "\n",
              "    .colab-df-convert {\n",
              "      background-color: #E8F0FE;\n",
              "      border: none;\n",
              "      border-radius: 50%;\n",
              "      cursor: pointer;\n",
              "      display: none;\n",
              "      fill: #1967D2;\n",
              "      height: 32px;\n",
              "      padding: 0 0 0 0;\n",
              "      width: 32px;\n",
              "    }\n",
              "\n",
              "    .colab-df-convert:hover {\n",
              "      background-color: #E2EBFA;\n",
              "      box-shadow: 0px 1px 2px rgba(60, 64, 67, 0.3), 0px 1px 3px 1px rgba(60, 64, 67, 0.15);\n",
              "      fill: #174EA6;\n",
              "    }\n",
              "\n",
              "    .colab-df-buttons div {\n",
              "      margin-bottom: 4px;\n",
              "    }\n",
              "\n",
              "    [theme=dark] .colab-df-convert {\n",
              "      background-color: #3B4455;\n",
              "      fill: #D2E3FC;\n",
              "    }\n",
              "\n",
              "    [theme=dark] .colab-df-convert:hover {\n",
              "      background-color: #434B5C;\n",
              "      box-shadow: 0px 1px 3px 1px rgba(0, 0, 0, 0.15);\n",
              "      filter: drop-shadow(0px 1px 2px rgba(0, 0, 0, 0.3));\n",
              "      fill: #FFFFFF;\n",
              "    }\n",
              "  </style>\n",
              "\n",
              "    <script>\n",
              "      const buttonEl =\n",
              "        document.querySelector('#df-8baead64-dbe7-4cec-87fd-c012b6b791a7 button.colab-df-convert');\n",
              "      buttonEl.style.display =\n",
              "        google.colab.kernel.accessAllowed ? 'block' : 'none';\n",
              "\n",
              "      async function convertToInteractive(key) {\n",
              "        const element = document.querySelector('#df-8baead64-dbe7-4cec-87fd-c012b6b791a7');\n",
              "        const dataTable =\n",
              "          await google.colab.kernel.invokeFunction('convertToInteractive',\n",
              "                                                    [key], {});\n",
              "        if (!dataTable) return;\n",
              "\n",
              "        const docLinkHtml = 'Like what you see? Visit the ' +\n",
              "          '<a target=\"_blank\" href=https://colab.research.google.com/notebooks/data_table.ipynb>data table notebook</a>'\n",
              "          + ' to learn more about interactive tables.';\n",
              "        element.innerHTML = '';\n",
              "        dataTable['output_type'] = 'display_data';\n",
              "        await google.colab.output.renderOutput(dataTable, element);\n",
              "        const docLink = document.createElement('div');\n",
              "        docLink.innerHTML = docLinkHtml;\n",
              "        element.appendChild(docLink);\n",
              "      }\n",
              "    </script>\n",
              "  </div>\n",
              "\n",
              "\n",
              "<div id=\"df-98223373-5958-4b1b-84c3-aa181342924a\">\n",
              "  <button class=\"colab-df-quickchart\" onclick=\"quickchart('df-98223373-5958-4b1b-84c3-aa181342924a')\"\n",
              "            title=\"Suggest charts\"\n",
              "            style=\"display:none;\">\n",
              "\n",
              "<svg xmlns=\"http://www.w3.org/2000/svg\" height=\"24px\"viewBox=\"0 0 24 24\"\n",
              "     width=\"24px\">\n",
              "    <g>\n",
              "        <path d=\"M19 3H5c-1.1 0-2 .9-2 2v14c0 1.1.9 2 2 2h14c1.1 0 2-.9 2-2V5c0-1.1-.9-2-2-2zM9 17H7v-7h2v7zm4 0h-2V7h2v10zm4 0h-2v-4h2v4z\"/>\n",
              "    </g>\n",
              "</svg>\n",
              "  </button>\n",
              "\n",
              "<style>\n",
              "  .colab-df-quickchart {\n",
              "      --bg-color: #E8F0FE;\n",
              "      --fill-color: #1967D2;\n",
              "      --hover-bg-color: #E2EBFA;\n",
              "      --hover-fill-color: #174EA6;\n",
              "      --disabled-fill-color: #AAA;\n",
              "      --disabled-bg-color: #DDD;\n",
              "  }\n",
              "\n",
              "  [theme=dark] .colab-df-quickchart {\n",
              "      --bg-color: #3B4455;\n",
              "      --fill-color: #D2E3FC;\n",
              "      --hover-bg-color: #434B5C;\n",
              "      --hover-fill-color: #FFFFFF;\n",
              "      --disabled-bg-color: #3B4455;\n",
              "      --disabled-fill-color: #666;\n",
              "  }\n",
              "\n",
              "  .colab-df-quickchart {\n",
              "    background-color: var(--bg-color);\n",
              "    border: none;\n",
              "    border-radius: 50%;\n",
              "    cursor: pointer;\n",
              "    display: none;\n",
              "    fill: var(--fill-color);\n",
              "    height: 32px;\n",
              "    padding: 0;\n",
              "    width: 32px;\n",
              "  }\n",
              "\n",
              "  .colab-df-quickchart:hover {\n",
              "    background-color: var(--hover-bg-color);\n",
              "    box-shadow: 0 1px 2px rgba(60, 64, 67, 0.3), 0 1px 3px 1px rgba(60, 64, 67, 0.15);\n",
              "    fill: var(--button-hover-fill-color);\n",
              "  }\n",
              "\n",
              "  .colab-df-quickchart-complete:disabled,\n",
              "  .colab-df-quickchart-complete:disabled:hover {\n",
              "    background-color: var(--disabled-bg-color);\n",
              "    fill: var(--disabled-fill-color);\n",
              "    box-shadow: none;\n",
              "  }\n",
              "\n",
              "  .colab-df-spinner {\n",
              "    border: 2px solid var(--fill-color);\n",
              "    border-color: transparent;\n",
              "    border-bottom-color: var(--fill-color);\n",
              "    animation:\n",
              "      spin 1s steps(1) infinite;\n",
              "  }\n",
              "\n",
              "  @keyframes spin {\n",
              "    0% {\n",
              "      border-color: transparent;\n",
              "      border-bottom-color: var(--fill-color);\n",
              "      border-left-color: var(--fill-color);\n",
              "    }\n",
              "    20% {\n",
              "      border-color: transparent;\n",
              "      border-left-color: var(--fill-color);\n",
              "      border-top-color: var(--fill-color);\n",
              "    }\n",
              "    30% {\n",
              "      border-color: transparent;\n",
              "      border-left-color: var(--fill-color);\n",
              "      border-top-color: var(--fill-color);\n",
              "      border-right-color: var(--fill-color);\n",
              "    }\n",
              "    40% {\n",
              "      border-color: transparent;\n",
              "      border-right-color: var(--fill-color);\n",
              "      border-top-color: var(--fill-color);\n",
              "    }\n",
              "    60% {\n",
              "      border-color: transparent;\n",
              "      border-right-color: var(--fill-color);\n",
              "    }\n",
              "    80% {\n",
              "      border-color: transparent;\n",
              "      border-right-color: var(--fill-color);\n",
              "      border-bottom-color: var(--fill-color);\n",
              "    }\n",
              "    90% {\n",
              "      border-color: transparent;\n",
              "      border-bottom-color: var(--fill-color);\n",
              "    }\n",
              "  }\n",
              "</style>\n",
              "\n",
              "  <script>\n",
              "    async function quickchart(key) {\n",
              "      const quickchartButtonEl =\n",
              "        document.querySelector('#' + key + ' button');\n",
              "      quickchartButtonEl.disabled = true;  // To prevent multiple clicks.\n",
              "      quickchartButtonEl.classList.add('colab-df-spinner');\n",
              "      try {\n",
              "        const charts = await google.colab.kernel.invokeFunction(\n",
              "            'suggestCharts', [key], {});\n",
              "      } catch (error) {\n",
              "        console.error('Error during call to suggestCharts:', error);\n",
              "      }\n",
              "      quickchartButtonEl.classList.remove('colab-df-spinner');\n",
              "      quickchartButtonEl.classList.add('colab-df-quickchart-complete');\n",
              "    }\n",
              "    (() => {\n",
              "      let quickchartButtonEl =\n",
              "        document.querySelector('#df-98223373-5958-4b1b-84c3-aa181342924a button');\n",
              "      quickchartButtonEl.style.display =\n",
              "        google.colab.kernel.accessAllowed ? 'block' : 'none';\n",
              "    })();\n",
              "  </script>\n",
              "</div>\n",
              "\n",
              "  <div id=\"id_ef5efdff-cfd6-4e0c-b2ac-930c28dca8a1\">\n",
              "    <style>\n",
              "      .colab-df-generate {\n",
              "        background-color: #E8F0FE;\n",
              "        border: none;\n",
              "        border-radius: 50%;\n",
              "        cursor: pointer;\n",
              "        display: none;\n",
              "        fill: #1967D2;\n",
              "        height: 32px;\n",
              "        padding: 0 0 0 0;\n",
              "        width: 32px;\n",
              "      }\n",
              "\n",
              "      .colab-df-generate:hover {\n",
              "        background-color: #E2EBFA;\n",
              "        box-shadow: 0px 1px 2px rgba(60, 64, 67, 0.3), 0px 1px 3px 1px rgba(60, 64, 67, 0.15);\n",
              "        fill: #174EA6;\n",
              "      }\n",
              "\n",
              "      [theme=dark] .colab-df-generate {\n",
              "        background-color: #3B4455;\n",
              "        fill: #D2E3FC;\n",
              "      }\n",
              "\n",
              "      [theme=dark] .colab-df-generate:hover {\n",
              "        background-color: #434B5C;\n",
              "        box-shadow: 0px 1px 3px 1px rgba(0, 0, 0, 0.15);\n",
              "        filter: drop-shadow(0px 1px 2px rgba(0, 0, 0, 0.3));\n",
              "        fill: #FFFFFF;\n",
              "      }\n",
              "    </style>\n",
              "    <button class=\"colab-df-generate\" onclick=\"generateWithVariable('Asset_Price_df')\"\n",
              "            title=\"Generate code using this dataframe.\"\n",
              "            style=\"display:none;\">\n",
              "\n",
              "  <svg xmlns=\"http://www.w3.org/2000/svg\" height=\"24px\"viewBox=\"0 0 24 24\"\n",
              "       width=\"24px\">\n",
              "    <path d=\"M7,19H8.4L18.45,9,17,7.55,7,17.6ZM5,21V16.75L18.45,3.32a2,2,0,0,1,2.83,0l1.4,1.43a1.91,1.91,0,0,1,.58,1.4,1.91,1.91,0,0,1-.58,1.4L9.25,21ZM18.45,9,17,7.55Zm-12,3A5.31,5.31,0,0,0,4.9,8.1,5.31,5.31,0,0,0,1,6.5,5.31,5.31,0,0,0,4.9,4.9,5.31,5.31,0,0,0,6.5,1,5.31,5.31,0,0,0,8.1,4.9,5.31,5.31,0,0,0,12,6.5,5.46,5.46,0,0,0,6.5,12Z\"/>\n",
              "  </svg>\n",
              "    </button>\n",
              "    <script>\n",
              "      (() => {\n",
              "      const buttonEl =\n",
              "        document.querySelector('#id_ef5efdff-cfd6-4e0c-b2ac-930c28dca8a1 button.colab-df-generate');\n",
              "      buttonEl.style.display =\n",
              "        google.colab.kernel.accessAllowed ? 'block' : 'none';\n",
              "\n",
              "      buttonEl.onclick = () => {\n",
              "        google.colab.notebook.generateWithVariable('Asset_Price_df');\n",
              "      }\n",
              "      })();\n",
              "    </script>\n",
              "  </div>\n",
              "\n",
              "    </div>\n",
              "  </div>\n"
            ],
            "application/vnd.google.colaboratory.intrinsic+json": {
              "type": "dataframe",
              "variable_name": "Asset_Price_df"
            }
          },
          "metadata": {},
          "execution_count": 12
        }
      ]
    },
    {
      "cell_type": "code",
      "source": [
        "euro_call = generate_european_call(spot_price, strike_price ,d, u, q, r ,num_steps)\n",
        "euro_call_df = pd.DataFrame(euro_call)\n",
        "euro_call_df = euro_call_df.round(2)\n",
        "#euro_call_df.replace(0, '', inplace=True)\n",
        "#euro_call_df.head(num_steps+1)"
      ],
      "metadata": {
        "id": "VpeWRcvXhMvj"
      },
      "execution_count": null,
      "outputs": []
    },
    {
      "cell_type": "code",
      "source": [
        "am_call = generate_american_call(spot_price, strike_price ,d, u, q, r ,num_steps)\n",
        "am_call_df = pd.DataFrame(am_call)\n",
        "am_call_df = am_call_df.round(2)\n",
        "#am_call_df.replace(0, '', inplace=True)\n",
        "#am_call_df.head(num_steps+1)"
      ],
      "metadata": {
        "id": "L_GEKOF-2ws-"
      },
      "execution_count": null,
      "outputs": []
    },
    {
      "cell_type": "code",
      "source": [
        "euro_put = generate_european_put(spot_price, strike_price ,d, u, q, r ,num_steps)\n",
        "euro_put_df = pd.DataFrame(euro_put)\n",
        "euro_put_df = euro_put_df.round(2)\n",
        "#euro_put_df.replace(0, '', inplace=True)\n",
        "#euro_put_df.head(num_steps+1)"
      ],
      "metadata": {
        "id": "ECIdREhg6HJ3"
      },
      "execution_count": null,
      "outputs": []
    },
    {
      "cell_type": "code",
      "source": [
        "am_put = generate_american_put(spot_price, strike_price ,d, u, q, r ,num_steps)\n",
        "am_put_df = pd.DataFrame(am_put)\n",
        "am_put_df = am_put_df.round(2)\n",
        "#am_put_df.replace(0, '', inplace=True)\n",
        "#am_put_df.head(num_steps+1)"
      ],
      "metadata": {
        "id": "ozFQW__F7o-9"
      },
      "execution_count": null,
      "outputs": []
    },
    {
      "cell_type": "code",
      "source": [
        "euro_call_binomial = euro_call_df[0][0]\n",
        "am_call_binomial = am_call_df[0][0]\n",
        "euro_put_binomial = euro_put_df[0][0]\n",
        "am_put_binomial = am_put_df[0][0]\n",
        "print(f\"Binomial European Call Value: {euro_call_binomial: .3f}\\nBinomial American Call Value: {am_call_binomial: .3f}\")\n",
        "print(f\"Binomial European Put Value: {euro_put_binomial: .3f}\\nBinomial American Put Value: {am_put_binomial: .3f}\")"
      ],
      "metadata": {
        "colab": {
          "base_uri": "https://localhost:8080/"
        },
        "id": "R59aqVd3MHuD",
        "outputId": "84cfb1ea-76a2-44c9-8ea8-222d48822280"
      },
      "execution_count": null,
      "outputs": [
        {
          "output_type": "stream",
          "name": "stdout",
          "text": [
            "Binomial European Call Value:  2100.910\n",
            "Binomial American Call Value:  2100.910\n",
            "Binomial European Put Value:  111.890\n",
            "Binomial American Put Value:  365.150\n"
          ]
        }
      ]
    },
    {
      "cell_type": "code",
      "source": [
        "\"\"\"\n",
        "spot_price = 274      # Current stock price\n",
        "strike_price = 225   # Option strike price\n",
        "time_to_maturity = 32/252  # Time to option expiration in years\n",
        "volatility = 0.52    # Volatility of the underlying stock\n",
        "risk_free_rate = 0.01 # Risk-free interest rate\n",
        "dividend_yield = 0.00\n",
        "num_steps = 10\n",
        "\"\"\""
      ],
      "metadata": {
        "colab": {
          "base_uri": "https://localhost:8080/",
          "height": 53
        },
        "id": "5_DVCDug8bbe",
        "outputId": "f9162403-544e-47b4-ac9d-722ce1048459"
      },
      "execution_count": null,
      "outputs": [
        {
          "output_type": "execute_result",
          "data": {
            "text/plain": [
              "'\\nspot_price = 274      # Current stock price\\nstrike_price = 225   # Option strike price\\ntime_to_maturity = 32/252  # Time to option expiration in years\\nvolatility = 0.52    # Volatility of the underlying stock\\nrisk_free_rate = 0.01 # Risk-free interest rate\\ndividend_yield = 0.00\\nnum_steps = 10\\n'"
            ],
            "application/vnd.google.colaboratory.intrinsic+json": {
              "type": "string"
            }
          },
          "metadata": {},
          "execution_count": 23
        }
      ]
    },
    {
      "cell_type": "code",
      "source": [
        "num_paths = 10000\n",
        "simulation_price = monte_carlo_sim_option(spot_price, risk_free_rate, dividend_yield, volatility, time_to_maturity, num_paths)\n",
        "Call_Expired_Value = np.maximum(0, simulation_price - strike_price)\n",
        "Call_Option =  np.exp((dividend_yield -risk_free_rate)*time_to_maturity) * Call_Expired_Value.mean()\n",
        "Put_Expired_Value = np.maximum(0, strike_price - simulation_price)\n",
        "Put_Option =  np.exp((dividend_yield -risk_free_rate)*time_to_maturity) * Put_Expired_Value.mean()\n",
        "print(f\"Monte Carlo call value is {Call_Option:.2f}\\nMonte Carlo put value is {Put_Option:.2f}\")"
      ],
      "metadata": {
        "colab": {
          "base_uri": "https://localhost:8080/"
        },
        "id": "pNLyKYLfAc40",
        "outputId": "e52d6e78-a934-438d-cba9-eb696cfe7da0"
      },
      "execution_count": null,
      "outputs": [
        {
          "output_type": "stream",
          "name": "stdout",
          "text": [
            "Monte Carlo call value is 1018.79\n",
            "Monte Carlo put value is 1041.20\n"
          ]
        }
      ]
    },
    {
      "cell_type": "code",
      "source": [
        "import numpy as np\n",
        "\n",
        "# Monte Carlo simulation\n",
        "def monte_carlo(spot_price, strike_price, dividend_yield ,risk_free_rate, volatility, time_to_maturity, num_steps):\n",
        "    dt = time_to_maturity/ num_steps # Time step\n",
        "    S = np.empty(num_steps+1) # Stock price\n",
        "    S[0] = spot_price\n",
        "    for i in range(num_steps):\n",
        "        S[i+1] = S[i] * np.exp((r - dividend_yield - volatility**2 / 2) * dt + volatility * np.sqrt(dt) * np.random.normal())\n",
        "    return np.maximum(S[-1] - strike_price, 0) # Payoff of call option\n",
        "\n",
        "\n",
        "# Run Monte Carlo simulation\n",
        "M = 1000 # Number of simulations\n",
        "payoffs = np.empty(M)\n",
        "for i in range(M):\n",
        "    payoffs[i] = monte_carlo(spot_price, strike_price, dividend_yield ,risk_free_rate, volatility, time_to_maturity, num_steps)\n",
        "\n",
        "# Estimate option price\n",
        "C = np.exp(-r * time_to_maturity) * payoffs.mean()\n",
        "\n",
        "print(C)"
      ],
      "metadata": {
        "colab": {
          "base_uri": "https://localhost:8080/"
        },
        "id": "yTJRrNg52x7a",
        "outputId": "b5353892-09ab-4a93-bf7b-56190f6ae062"
      },
      "execution_count": null,
      "outputs": [
        {
          "output_type": "stream",
          "name": "stdout",
          "text": [
            "1453.098041214548\n"
          ]
        }
      ]
    }
  ]
}